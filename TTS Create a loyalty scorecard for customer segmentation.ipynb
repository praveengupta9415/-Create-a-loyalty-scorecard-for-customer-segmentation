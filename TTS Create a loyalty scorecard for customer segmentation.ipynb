{
 "cells": [
  {
   "cell_type": "code",
   "execution_count": 1,
   "id": "769d37d8",
   "metadata": {},
   "outputs": [],
   "source": [
    "# Import necessary libraries\n",
    "import pandas as pd\n",
    "import numpy as np\n",
    "import seaborn as sns\n",
    "import matplotlib.pyplot as plt\n",
    "from sklearn.cluster import KMeans\n"
   ]
  },
  {
   "cell_type": "code",
   "execution_count": 9,
   "id": "6a4cfc10",
   "metadata": {},
   "outputs": [
    {
     "data": {
      "text/plain": [
       "'/mnt/data/customer_data.csv'"
      ]
     },
     "execution_count": 9,
     "metadata": {},
     "output_type": "execute_result"
    }
   ],
   "source": [
    "# Let's create a sample dataset that aligns with the loyalty scorecard implementation above.\n",
    "# This dataset will include columns: 'customer_id', 'purchase_date', and 'purchase_amount'.\n",
    "# We will then save this as a CSV file.\n",
    "\n",
    "import pandas as pd\n",
    "import numpy as np\n",
    "from datetime import timedelta, datetime\n",
    "import random\n",
    "\n",
    "# Set random seed for reproducibility\n",
    "np.random.seed(42)\n",
    "\n",
    "# Parameters for data generation\n",
    "num_customers = 100  # Number of customers\n",
    "num_transactions = 1000  # Number of transactions\n",
    "\n",
    "# Generate sample data\n",
    "customer_ids = np.random.choice(range(1, num_customers + 1), num_transactions)\n",
    "purchase_dates = [datetime.now() - timedelta(days=random.randint(1, 365)) for _ in range(num_transactions)]\n",
    "purchase_amounts = np.random.uniform(10, 500, num_transactions).round(2)  # Random amounts between $10 and $500\n",
    "\n",
    "# Create DataFrame\n",
    "data = pd.DataFrame({\n",
    "    'customer_id': customer_ids,\n",
    "    'purchase_date': purchase_dates,\n",
    "    'purchase_amount': purchase_amounts\n",
    "})\n",
    "\n",
    "# Save to CSV file\n",
    "csv_path = '/mnt/data/customer_data.csv'\n",
    "data.to_csv(csv_path, index=False)\n",
    "\n",
    "csv_path\n"
   ]
  },
  {
   "cell_type": "code",
   "execution_count": 10,
   "id": "2a31a1e0",
   "metadata": {},
   "outputs": [
    {
     "data": {
      "text/html": [
       "<div>\n",
       "<style scoped>\n",
       "    .dataframe tbody tr th:only-of-type {\n",
       "        vertical-align: middle;\n",
       "    }\n",
       "\n",
       "    .dataframe tbody tr th {\n",
       "        vertical-align: top;\n",
       "    }\n",
       "\n",
       "    .dataframe thead th {\n",
       "        text-align: right;\n",
       "    }\n",
       "</style>\n",
       "<table border=\"1\" class=\"dataframe\">\n",
       "  <thead>\n",
       "    <tr style=\"text-align: right;\">\n",
       "      <th></th>\n",
       "      <th>customer_id</th>\n",
       "      <th>purchase_date</th>\n",
       "      <th>purchase_amount</th>\n",
       "    </tr>\n",
       "  </thead>\n",
       "  <tbody>\n",
       "    <tr>\n",
       "      <th>0</th>\n",
       "      <td>52</td>\n",
       "      <td>2024-06-03 19:02:59.354231</td>\n",
       "      <td>297.55</td>\n",
       "    </tr>\n",
       "    <tr>\n",
       "      <th>1</th>\n",
       "      <td>93</td>\n",
       "      <td>2024-01-21 19:02:59.354231</td>\n",
       "      <td>375.27</td>\n",
       "    </tr>\n",
       "    <tr>\n",
       "      <th>2</th>\n",
       "      <td>15</td>\n",
       "      <td>2024-03-03 19:02:59.354231</td>\n",
       "      <td>221.51</td>\n",
       "    </tr>\n",
       "    <tr>\n",
       "      <th>3</th>\n",
       "      <td>72</td>\n",
       "      <td>2023-12-25 19:02:59.354231</td>\n",
       "      <td>72.51</td>\n",
       "    </tr>\n",
       "    <tr>\n",
       "      <th>4</th>\n",
       "      <td>61</td>\n",
       "      <td>2024-08-07 19:02:59.354231</td>\n",
       "      <td>149.05</td>\n",
       "    </tr>\n",
       "    <tr>\n",
       "      <th>5</th>\n",
       "      <td>21</td>\n",
       "      <td>2024-06-06 19:02:59.354231</td>\n",
       "      <td>187.91</td>\n",
       "    </tr>\n",
       "    <tr>\n",
       "      <th>6</th>\n",
       "      <td>83</td>\n",
       "      <td>2024-03-15 19:02:59.354231</td>\n",
       "      <td>326.50</td>\n",
       "    </tr>\n",
       "    <tr>\n",
       "      <th>7</th>\n",
       "      <td>87</td>\n",
       "      <td>2023-12-13 19:02:59.354231</td>\n",
       "      <td>289.68</td>\n",
       "    </tr>\n",
       "    <tr>\n",
       "      <th>8</th>\n",
       "      <td>75</td>\n",
       "      <td>2024-08-29 19:02:59.354231</td>\n",
       "      <td>184.49</td>\n",
       "    </tr>\n",
       "    <tr>\n",
       "      <th>9</th>\n",
       "      <td>75</td>\n",
       "      <td>2024-09-18 19:02:59.354231</td>\n",
       "      <td>493.39</td>\n",
       "    </tr>\n",
       "  </tbody>\n",
       "</table>\n",
       "</div>"
      ],
      "text/plain": [
       "   customer_id               purchase_date  purchase_amount\n",
       "0           52  2024-06-03 19:02:59.354231           297.55\n",
       "1           93  2024-01-21 19:02:59.354231           375.27\n",
       "2           15  2024-03-03 19:02:59.354231           221.51\n",
       "3           72  2023-12-25 19:02:59.354231            72.51\n",
       "4           61  2024-08-07 19:02:59.354231           149.05\n",
       "5           21  2024-06-06 19:02:59.354231           187.91\n",
       "6           83  2024-03-15 19:02:59.354231           326.50\n",
       "7           87  2023-12-13 19:02:59.354231           289.68\n",
       "8           75  2024-08-29 19:02:59.354231           184.49\n",
       "9           75  2024-09-18 19:02:59.354231           493.39"
      ]
     },
     "execution_count": 10,
     "metadata": {},
     "output_type": "execute_result"
    }
   ],
   "source": [
    "# Load your data\n",
    "data = pd.read_csv(\"/mnt/data/customer_data.csv\")\n",
    "data.head(10)\n"
   ]
  },
  {
   "cell_type": "code",
   "execution_count": 3,
   "id": "7b52c0a4",
   "metadata": {},
   "outputs": [],
   "source": [
    "#Data Exploration and Preprocessing"
   ]
  },
  {
   "cell_type": "code",
   "execution_count": 11,
   "id": "f8e63bdc",
   "metadata": {},
   "outputs": [
    {
     "name": "stdout",
     "output_type": "stream",
     "text": [
      "<class 'pandas.core.frame.DataFrame'>\n",
      "RangeIndex: 1000 entries, 0 to 999\n",
      "Data columns (total 3 columns):\n",
      " #   Column           Non-Null Count  Dtype  \n",
      "---  ------           --------------  -----  \n",
      " 0   customer_id      1000 non-null   int64  \n",
      " 1   purchase_date    1000 non-null   object \n",
      " 2   purchase_amount  1000 non-null   float64\n",
      "dtypes: float64(1), int64(1), object(1)\n",
      "memory usage: 23.6+ KB\n"
     ]
    }
   ],
   "source": [
    "# Check for missing values and clean data\n",
    "data.info()\n",
    "data.isnull().sum()\n",
    "\n",
    "# Fill missing values or drop as necessary\n",
    "data = data.dropna()  # Example: dropping rows with missing values\n"
   ]
  },
  {
   "cell_type": "code",
   "execution_count": null,
   "id": "49a9d595",
   "metadata": {},
   "outputs": [],
   "source": [
    "#Define Loyalty Metrics"
   ]
  },
  {
   "cell_type": "code",
   "execution_count": 12,
   "id": "b2d5212a",
   "metadata": {},
   "outputs": [
    {
     "data": {
      "text/html": [
       "<div>\n",
       "<style scoped>\n",
       "    .dataframe tbody tr th:only-of-type {\n",
       "        vertical-align: middle;\n",
       "    }\n",
       "\n",
       "    .dataframe tbody tr th {\n",
       "        vertical-align: top;\n",
       "    }\n",
       "\n",
       "    .dataframe thead th {\n",
       "        text-align: right;\n",
       "    }\n",
       "</style>\n",
       "<table border=\"1\" class=\"dataframe\">\n",
       "  <thead>\n",
       "    <tr style=\"text-align: right;\">\n",
       "      <th></th>\n",
       "      <th>customer_id</th>\n",
       "      <th>Recency</th>\n",
       "      <th>Frequency</th>\n",
       "      <th>AOV</th>\n",
       "    </tr>\n",
       "  </thead>\n",
       "  <tbody>\n",
       "    <tr>\n",
       "      <th>0</th>\n",
       "      <td>52</td>\n",
       "      <td>161</td>\n",
       "      <td>12</td>\n",
       "      <td>155.574167</td>\n",
       "    </tr>\n",
       "    <tr>\n",
       "      <th>1</th>\n",
       "      <td>93</td>\n",
       "      <td>295</td>\n",
       "      <td>11</td>\n",
       "      <td>270.048182</td>\n",
       "    </tr>\n",
       "    <tr>\n",
       "      <th>2</th>\n",
       "      <td>15</td>\n",
       "      <td>253</td>\n",
       "      <td>10</td>\n",
       "      <td>315.895000</td>\n",
       "    </tr>\n",
       "    <tr>\n",
       "      <th>3</th>\n",
       "      <td>72</td>\n",
       "      <td>322</td>\n",
       "      <td>8</td>\n",
       "      <td>166.680000</td>\n",
       "    </tr>\n",
       "    <tr>\n",
       "      <th>4</th>\n",
       "      <td>61</td>\n",
       "      <td>96</td>\n",
       "      <td>12</td>\n",
       "      <td>217.743333</td>\n",
       "    </tr>\n",
       "  </tbody>\n",
       "</table>\n",
       "</div>"
      ],
      "text/plain": [
       "   customer_id  Recency  Frequency         AOV\n",
       "0           52      161         12  155.574167\n",
       "1           93      295         11  270.048182\n",
       "2           15      253         10  315.895000\n",
       "3           72      322          8  166.680000\n",
       "4           61       96         12  217.743333"
      ]
     },
     "execution_count": 12,
     "metadata": {},
     "output_type": "execute_result"
    }
   ],
   "source": [
    "# Convert 'date' column to datetime if necessary\n",
    "data['purchase_date'] = pd.to_datetime(data['purchase_date'])\n",
    "\n",
    "# Calculate Recency\n",
    "latest_date = data['purchase_date'].max()\n",
    "data['Recency'] = (latest_date - data['purchase_date']).dt.days\n",
    "\n",
    "# Calculate Frequency (number of purchases per customer)\n",
    "frequency = data.groupby('customer_id').size()\n",
    "data['Frequency'] = data['customer_id'].map(frequency)\n",
    "\n",
    "# Calculate Average Order Value (AOV)\n",
    "aov = data.groupby('customer_id')['purchase_amount'].mean()\n",
    "data['AOV'] = data['customer_id'].map(aov)\n",
    "\n",
    "# Keep only relevant columns for the scorecard\n",
    "scorecard_df = data[['customer_id', 'Recency', 'Frequency', 'AOV']].drop_duplicates()\n",
    "scorecard_df.head()\n"
   ]
  },
  {
   "cell_type": "code",
   "execution_count": 13,
   "id": "2ec24bd7",
   "metadata": {},
   "outputs": [
    {
     "name": "stdout",
     "output_type": "stream",
     "text": [
      "Index(['customer_id', 'purchase_date', 'purchase_amount', 'Recency',\n",
      "       'Frequency', 'AOV'],\n",
      "      dtype='object')\n"
     ]
    }
   ],
   "source": [
    "print(data.columns)\n"
   ]
  },
  {
   "cell_type": "code",
   "execution_count": 14,
   "id": "f9e206a3",
   "metadata": {},
   "outputs": [],
   "source": [
    "#Normalize the Data"
   ]
  },
  {
   "cell_type": "code",
   "execution_count": 15,
   "id": "9ef94d23",
   "metadata": {},
   "outputs": [],
   "source": [
    "from sklearn.preprocessing import StandardScaler\n",
    "\n",
    "scaler = StandardScaler()\n",
    "scorecard_scaled = scaler.fit_transform(scorecard_df[['Recency', 'Frequency', 'AOV']])\n"
   ]
  },
  {
   "cell_type": "code",
   "execution_count": 16,
   "id": "9dc668b7",
   "metadata": {},
   "outputs": [],
   "source": [
    "#Define a Scoring System with Clustering"
   ]
  },
  {
   "cell_type": "code",
   "execution_count": 17,
   "id": "554fa4e7",
   "metadata": {},
   "outputs": [
    {
     "name": "stderr",
     "output_type": "stream",
     "text": [
      "C:\\Users\\DELL\\anaconda3\\envs\\tensor\\lib\\site-packages\\sklearn\\cluster\\_kmeans.py:1412: FutureWarning: The default value of `n_init` will change from 10 to 'auto' in 1.4. Set the value of `n_init` explicitly to suppress the warning\n",
      "  super()._check_params_vs_input(X, default_n_init=10)\n"
     ]
    },
    {
     "data": {
      "text/html": [
       "<div>\n",
       "<style scoped>\n",
       "    .dataframe tbody tr th:only-of-type {\n",
       "        vertical-align: middle;\n",
       "    }\n",
       "\n",
       "    .dataframe tbody tr th {\n",
       "        vertical-align: top;\n",
       "    }\n",
       "\n",
       "    .dataframe thead th {\n",
       "        text-align: right;\n",
       "    }\n",
       "</style>\n",
       "<table border=\"1\" class=\"dataframe\">\n",
       "  <thead>\n",
       "    <tr style=\"text-align: right;\">\n",
       "      <th></th>\n",
       "      <th>customer_id</th>\n",
       "      <th>Recency</th>\n",
       "      <th>Frequency</th>\n",
       "      <th>AOV</th>\n",
       "      <th>Loyalty_Segment</th>\n",
       "    </tr>\n",
       "  </thead>\n",
       "  <tbody>\n",
       "    <tr>\n",
       "      <th>0</th>\n",
       "      <td>52</td>\n",
       "      <td>161</td>\n",
       "      <td>12</td>\n",
       "      <td>155.574167</td>\n",
       "      <td>Silver</td>\n",
       "    </tr>\n",
       "    <tr>\n",
       "      <th>1</th>\n",
       "      <td>93</td>\n",
       "      <td>295</td>\n",
       "      <td>11</td>\n",
       "      <td>270.048182</td>\n",
       "      <td>Gold</td>\n",
       "    </tr>\n",
       "    <tr>\n",
       "      <th>2</th>\n",
       "      <td>15</td>\n",
       "      <td>253</td>\n",
       "      <td>10</td>\n",
       "      <td>315.895000</td>\n",
       "      <td>Gold</td>\n",
       "    </tr>\n",
       "    <tr>\n",
       "      <th>3</th>\n",
       "      <td>72</td>\n",
       "      <td>322</td>\n",
       "      <td>8</td>\n",
       "      <td>166.680000</td>\n",
       "      <td>Silver</td>\n",
       "    </tr>\n",
       "    <tr>\n",
       "      <th>4</th>\n",
       "      <td>61</td>\n",
       "      <td>96</td>\n",
       "      <td>12</td>\n",
       "      <td>217.743333</td>\n",
       "      <td>Silver</td>\n",
       "    </tr>\n",
       "  </tbody>\n",
       "</table>\n",
       "</div>"
      ],
      "text/plain": [
       "   customer_id  Recency  Frequency         AOV Loyalty_Segment\n",
       "0           52      161         12  155.574167          Silver\n",
       "1           93      295         11  270.048182            Gold\n",
       "2           15      253         10  315.895000            Gold\n",
       "3           72      322          8  166.680000          Silver\n",
       "4           61       96         12  217.743333          Silver"
      ]
     },
     "execution_count": 17,
     "metadata": {},
     "output_type": "execute_result"
    }
   ],
   "source": [
    "# Initialize and fit KMeans\n",
    "kmeans = KMeans(n_clusters=4, random_state=42)  # Adjust clusters as needed\n",
    "scorecard_df['Loyalty_Segment'] = kmeans.fit_predict(scorecard_scaled)\n",
    "\n",
    "# Map clusters to loyalty levels\n",
    "scorecard_df['Loyalty_Segment'] = scorecard_df['Loyalty_Segment'].map({\n",
    "    0: 'Platinum', 1: 'Gold', 2: 'Silver', 3: 'Bronze'\n",
    "})\n",
    "\n",
    "scorecard_df.head()\n"
   ]
  },
  {
   "cell_type": "code",
   "execution_count": 18,
   "id": "d6fe95a5",
   "metadata": {},
   "outputs": [],
   "source": [
    "#Visualize Loyalty Segments"
   ]
  },
  {
   "cell_type": "code",
   "execution_count": 19,
   "id": "e02d8072",
   "metadata": {},
   "outputs": [
    {
     "data": {
      "image/png": "[encoded data removed]",
      "text/plain": [
       "<Figure size 1000x600 with 1 Axes>"
      ]
     },
     "metadata": {},
     "output_type": "display_data"
    }
   ],
   "source": [
    "plt.figure(figsize=(10, 6))\n",
    "sns.countplot(data=scorecard_df, x='Loyalty_Segment', order=['Platinum', 'Gold', 'Silver', 'Bronze'])\n",
    "plt.title(\"Distribution of Loyalty Segments\")\n",
    "plt.xlabel(\"Loyalty Segment\")\n",
    "plt.ylabel(\"Customer Count\")\n",
    "plt.show()\n"
   ]
  },
  {
   "cell_type": "code",
   "execution_count": null,
   "id": "18ba2c38",
   "metadata": {},
   "outputs": [],
   "source": [
    "#Analyze the Segments"
   ]
  },
  {
   "cell_type": "code",
   "execution_count": 20,
   "id": "c4f7390c",
   "metadata": {},
   "outputs": [
    {
     "data": {
      "text/html": [
       "<div>\n",
       "<style scoped>\n",
       "    .dataframe tbody tr th:only-of-type {\n",
       "        vertical-align: middle;\n",
       "    }\n",
       "\n",
       "    .dataframe tbody tr th {\n",
       "        vertical-align: top;\n",
       "    }\n",
       "\n",
       "    .dataframe thead th {\n",
       "        text-align: right;\n",
       "    }\n",
       "</style>\n",
       "<table border=\"1\" class=\"dataframe\">\n",
       "  <thead>\n",
       "    <tr style=\"text-align: right;\">\n",
       "      <th></th>\n",
       "      <th>Loyalty_Segment</th>\n",
       "      <th>Recency</th>\n",
       "      <th>Frequency</th>\n",
       "      <th>AOV</th>\n",
       "    </tr>\n",
       "  </thead>\n",
       "  <tbody>\n",
       "    <tr>\n",
       "      <th>0</th>\n",
       "      <td>Bronze</td>\n",
       "      <td>191.343915</td>\n",
       "      <td>16.650794</td>\n",
       "      <td>230.262989</td>\n",
       "    </tr>\n",
       "    <tr>\n",
       "      <th>1</th>\n",
       "      <td>Gold</td>\n",
       "      <td>281.378641</td>\n",
       "      <td>9.896440</td>\n",
       "      <td>276.950169</td>\n",
       "    </tr>\n",
       "    <tr>\n",
       "      <th>2</th>\n",
       "      <td>Platinum</td>\n",
       "      <td>84.911197</td>\n",
       "      <td>9.961390</td>\n",
       "      <td>286.577264</td>\n",
       "    </tr>\n",
       "    <tr>\n",
       "      <th>3</th>\n",
       "      <td>Silver</td>\n",
       "      <td>158.389381</td>\n",
       "      <td>9.469027</td>\n",
       "      <td>209.688736</td>\n",
       "    </tr>\n",
       "  </tbody>\n",
       "</table>\n",
       "</div>"
      ],
      "text/plain": [
       "  Loyalty_Segment     Recency  Frequency         AOV\n",
       "0          Bronze  191.343915  16.650794  230.262989\n",
       "1            Gold  281.378641   9.896440  276.950169\n",
       "2        Platinum   84.911197   9.961390  286.577264\n",
       "3          Silver  158.389381   9.469027  209.688736"
      ]
     },
     "execution_count": 20,
     "metadata": {},
     "output_type": "execute_result"
    }
   ],
   "source": [
    "segment_analysis = scorecard_df.groupby('Loyalty_Segment').agg({\n",
    "    'Recency': 'mean',\n",
    "    'Frequency': 'mean',\n",
    "    'AOV': 'mean'\n",
    "}).reset_index()\n",
    "\n",
    "segment_analysis\n"
   ]
  },
  {
   "cell_type": "code",
   "execution_count": 21,
   "id": "43618fa2",
   "metadata": {},
   "outputs": [],
   "source": [
    "#Export the Results"
   ]
  },
  {
   "cell_type": "code",
   "execution_count": 22,
   "id": "8e645351",
   "metadata": {},
   "outputs": [],
   "source": [
    "scorecard_df.to_csv(\"loyalty_scorecard.csv\", index=False)\n"
   ]
  },
  {
   "cell_type": "code",
   "execution_count": 24,
   "id": "d78db26a",
   "metadata": {},
   "outputs": [
    {
     "name": "stdout",
     "output_type": "stream",
     "text": [
      "     customer_id  Recency  Frequency         AOV Loyalty_Segment\n",
      "0             52      161         12  155.574167          Silver\n",
      "1             93      295         11  270.048182            Gold\n",
      "2             15      253         10  315.895000            Gold\n",
      "3             72      322          8  166.680000          Silver\n",
      "4             61       96         12  217.743333          Silver\n",
      "..           ...      ...        ...         ...             ...\n",
      "978           10      122          6  314.025000        Platinum\n",
      "979           67      120         10  236.512000          Silver\n",
      "980           18      150          9  311.751111        Platinum\n",
      "981          100      326          9  186.337778          Silver\n",
      "982           86      164         15  246.021333          Bronze\n",
      "\n",
      "[983 rows x 5 columns]\n"
     ]
    }
   ],
   "source": [
    "data = pd.read_csv('loyalty_scorecard.csv')\n",
    "print(data)"
   ]
  },
  {
   "cell_type": "code",
   "execution_count": null,
   "id": "ef1b2604",
   "metadata": {},
   "outputs": [],
   "source": []
  }
 ],
 "metadata": {
  "kernelspec": {
   "display_name": "Python 3 (ipykernel)",
   "language": "python",
   "name": "python3"
  },
  "language_info": {
   "codemirror_mode": {
    "name": "ipython",
    "version": 3
   },
   "file_extension": ".py",
   "mimetype": "text/x-python",
   "name": "python",
   "nbconvert_exporter": "python",
   "pygments_lexer": "ipython3",
   "version": "3.10.13"
  }
 },
 "nbformat": 4,
 "nbformat_minor": 5
}
